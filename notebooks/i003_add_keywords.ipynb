{
 "cells": [
  {
   "cell_type": "code",
   "execution_count": 29,
   "metadata": {
    "collapsed": false
   },
   "outputs": [
    {
     "data": {
      "text/plain": [
       "<module 'pubmed.core' from '/home/bzhang/DS/PubMedReader/src/main/python/pubmed/core.py'>"
      ]
     },
     "execution_count": 29,
     "metadata": {},
     "output_type": "execute_result"
    }
   ],
   "source": [
    "import pubmed.core as C;reload(C)"
   ]
  },
  {
   "cell_type": "code",
   "execution_count": 30,
   "metadata": {
    "collapsed": false
   },
   "outputs": [],
   "source": [
    "a=C.pubMedCitation('/data/pdda_raw/17_pubmed/2016baseline/medline16n0215.xml.gz')"
   ]
  },
  {
   "cell_type": "code",
   "execution_count": 31,
   "metadata": {
    "collapsed": false
   },
   "outputs": [
    {
     "name": "stdout",
     "output_type": "stream",
     "text": [
      "PMID:String                 = 7159390_1\n",
      "Journal_ISSN:String         = Print_0264-6021\n",
      "Article_Title:String        = Synthesis of retinyl phosphate mannose and dolichyl phosphate mannose from endogenous and exogenous retinyl phosphate and dolichyl phosphate in microsomal fraction. Specific decrease in endogenous retinyl phosphate mannose synthesis in vitamin A deficiency.\n",
      "Journal_Title:String        = The Biochemical journal\n",
      "Journal_Publish_Date:String = 1982-10-15\n",
      "Journal_Country:String      = ENGLAND\n",
      "Mesh_Headings:String        = D000818|D002413|D002855|D006224|D003902|D004287|D004288|D066298|D007700|D008297|D008647|D008862|D017830|D011092|D011103|D011105|D011106|D051381|D012710|D014801|D014802\n",
      "Keywords:String             = null\n",
      "Abstract:String             = Rat liver microsomal fraction synthesized Ret-P-Man (retinyl phosphate mannose) and Dol-P-Man (dolichyl phosphate mannose) from endogenous Ret-P (retinyl phosphate) and Dol-P (dolichyl phosphate). Ret-P-Man synthesis displayed an absolute requirement for a bivalent cation, and also Dol-P-Man synthesis was stimulated by bivalent metal ions. Mn2+ and Co2+ were the most active, with maximum synthesis of Ret-P-Man occurring at 5-10 mM: Mg2+ was also active, but at higher concentrations. At 5mM-Mn2+ the amount of endogenous Ret-P mannosylated in incubation mixtures containing 5 microM-GDP-mannose in 15 min at 37 degrees C was approx. 3 pmol/mg of protein. In the same assays about 7-10 pmol of endogenous Dol-P was mannosylated. Bivalentcation requirement for Ret-P-Man synthesis from exogenous Ret-P showed maximum synthesis at 2.5 mM-Mn2+ or -Co2+. In addition to Ret-P-Man and Dol-P-Man, a mannolipid co-chromatographing with undecaprenyl phosphate mannose was detected. Triton X-100 (0.5%) abolished Ret-P-Man synthesis from endogenous Ret-P and caused a 99% inhibition of Ret-P-Man synthesis from exogenous Ret-P. The presence of detergent (0.5%) also inhibited Dol-P-Man synthesis from endogenous Dol-P and altered the requirement for Mn2+. Microsomal fraction from Syrian golden hamsters was also active in Ret-P-Man and Dol-P-Man synthesis from endogenous Ret-P and Dol-P. At 5 mM-Mn2+ about 2.5 pmol of endogenous Ret-P and 3.7 pmol of endogenous Dol-P were mannosylated from GDP-mannose per mg of protein in 15 min at 37 degrees C. On the other hand, microsomal fraction from vitamin A-deficient hamsters contained 1.2 pmol of Ret-P and 14.1 pmol of Dol-P available for mannosylation. Since GDP-mannose: Ret-P and GDP-mannose: Dol-P mannosyltransferase activities were not affected, depletion of vitamin A must affect Ret-P and Dol-P pools in opposite ways.\n",
      "Affiliation:String          = null\n",
      "Author_Identifier:String    = null\n",
      "LastName:String             = De Luca\n",
      "ForeName:String             = L M\n",
      "Suffix:String               = null\n",
      "Initials:String             = LM\n"
     ]
    }
   ],
   "source": [
    "a.peek()"
   ]
  },
  {
   "cell_type": "code",
   "execution_count": 4,
   "metadata": {
    "collapsed": false
   },
   "outputs": [],
   "source": [
    "b=a.where(a.Keywords.isNotNull()).cache()"
   ]
  },
  {
   "cell_type": "code",
   "execution_count": 5,
   "metadata": {
    "collapsed": false
   },
   "outputs": [
    {
     "name": "stdout",
     "output_type": "stream",
     "text": [
      "PMID:String                 = 7159765_1\n",
      "Journal_ISSN:String         = Print_0091-634X\n",
      "Article_Title:String        = An English psychiatrist looks at dangerousness.\n",
      "Journal_Title:String        = The Bulletin of the American Academy of Psychiatry and the Law\n",
      "Journal_Publish_Date:String = 1982-01-01\n",
      "Journal_Country:String      = UNITED STATES\n",
      "Mesh_Headings:String        = D003134|D003416|D003617|D004739|D005239|D006801|D035846|D028642|D010819|D011336|D011379|D011570|D012306|D012935|D014754\n",
      "Keywords:String             = Legal Approach|Mental Health Act 1959 (Great Britain)|Mental Health Therapies\n",
      "Abstract:String             = null\n",
      "Affiliation:String          = null\n",
      "Author_Identifier:String    = null\n",
      "LastName:String             = Gunn\n",
      "ForeName:String             = J\n",
      "Suffix:String               = null\n",
      "Initials:String             = J\n"
     ]
    }
   ],
   "source": [
    "b.peek()"
   ]
  },
  {
   "cell_type": "code",
   "execution_count": 24,
   "metadata": {
    "collapsed": false
   },
   "outputs": [],
   "source": [
    "a1=a.withColumn('Abstract', C.toAscii('Abstract')).cache()"
   ]
  },
  {
   "cell_type": "code",
   "execution_count": 25,
   "metadata": {
    "collapsed": false
   },
   "outputs": [
    {
     "name": "stdout",
     "output_type": "stream",
     "text": [
      "PMID:String                 = 7159390_1\n",
      "Journal_ISSN:String         = Print_0264-6021\n",
      "Article_Title:String        = Synthesis of retinyl phosphate mannose and dolichyl phosphate mannose from endogenous and exogenous retinyl phosphate and dolichyl phosphate in microsomal fraction. Specific decrease in endogenous retinyl phosphate mannose synthesis in vitamin A deficiency.\n",
      "Journal_Title:String        = The Biochemical journal\n",
      "Journal_Publish_Date:String = 1982-10-15\n",
      "Journal_Country:String      = ENGLAND\n",
      "Mesh_Headings:String        = D000818|D002413|D002855|D006224|D003902|D004287|D004288|D066298|D007700|D008297|D008647|D008862|D017830|D011092|D011103|D011105|D011106|D051381|D012710|D014801|D014802\n",
      "Keywords:String             = null\n",
      "Abstract:String             = Rat liver microsomal fraction synthesized Ret-P-Man (retinyl phosphate mannose) and Dol-P-Man (dolichyl phosphate mannose) from endogenous Ret-P (retinyl phosphate) and Dol-P (dolichyl phosphate). Ret-P-Man synthesis displayed an absolute requirement for a bivalent cation, and also Dol-P-Man synthesis was stimulated by bivalent metal ions. Mn2+ and Co2+ were the most active, with maximum synthesis of Ret-P-Man occurring at 5-10 mM: Mg2+ was also active, but at higher concentrations. At 5mM-Mn2+ the amount of endogenous Ret-P mannosylated in incubation mixtures containing 5 microM-GDP-mannose in 15 min at 37 degrees C was approx. 3 pmol/mg of protein. In the same assays about 7-10 pmol of endogenous Dol-P was mannosylated. Bivalentcation requirement for Ret-P-Man synthesis from exogenous Ret-P showed maximum synthesis at 2.5 mM-Mn2+ or -Co2+. In addition to Ret-P-Man and Dol-P-Man, a mannolipid co-chromatographing with undecaprenyl phosphate mannose was detected. Triton X-100 (0.5%) abolished Ret-P-Man synthesis from endogenous Ret-P and caused a 99% inhibition of Ret-P-Man synthesis from exogenous Ret-P. The presence of detergent (0.5%) also inhibited Dol-P-Man synthesis from endogenous Dol-P and altered the requirement for Mn2+. Microsomal fraction from Syrian golden hamsters was also active in Ret-P-Man and Dol-P-Man synthesis from endogenous Ret-P and Dol-P. At 5 mM-Mn2+ about 2.5 pmol of endogenous Ret-P and 3.7 pmol of endogenous Dol-P were mannosylated from GDP-mannose per mg of protein in 15 min at 37 degrees C. On the other hand, microsomal fraction from vitamin A-deficient hamsters contained 1.2 pmol of Ret-P and 14.1 pmol of Dol-P available for mannosylation. Since GDP-mannose: Ret-P and GDP-mannose: Dol-P mannosyltransferase activities were not affected, depletion of vitamin A must affect Ret-P and Dol-P pools in opposite ways.\n",
      "Affiliation:String          = null\n",
      "Author_Identifier:String    = null\n",
      "LastName:String             = De Luca\n",
      "ForeName:String             = L M\n",
      "Suffix:String               = null\n",
      "Initials:String             = LM\n"
     ]
    }
   ],
   "source": [
    "a1.peek()"
   ]
  },
  {
   "cell_type": "code",
   "execution_count": 4,
   "metadata": {
    "collapsed": false
   },
   "outputs": [],
   "source": [
    "b=C.readPubMedXml('/data/pdda_raw/17_pubmed/2016baseline/medline16n0215.xml.gz')"
   ]
  },
  {
   "cell_type": "code",
   "execution_count": 5,
   "metadata": {
    "collapsed": false
   },
   "outputs": [
    {
     "name": "stdout",
     "output_type": "stream",
     "text": [
      "root\n",
      " |-- Article: struct (nullable = true)\n",
      " |    |-- Abstract: struct (nullable = true)\n",
      " |    |    |-- AbstractText: array (nullable = true)\n",
      " |    |    |    |-- element: struct (containsNull = true)\n",
      " |    |    |    |    |-- _Label: string (nullable = true)\n",
      " |    |    |    |    |-- _NlmCategory: string (nullable = true)\n",
      " |    |    |    |    |-- _VALUE: string (nullable = true)\n",
      " |    |-- ArticleTitle: string (nullable = true)\n",
      " |    |-- AuthorList: struct (nullable = true)\n",
      " |    |    |-- Author: array (nullable = true)\n",
      " |    |    |    |-- element: struct (containsNull = true)\n",
      " |    |    |    |    |-- CollectiveName: string (nullable = true)\n",
      " |    |    |    |    |-- ForeName: string (nullable = true)\n",
      " |    |    |    |    |-- Initials: string (nullable = true)\n",
      " |    |    |    |    |-- LastName: string (nullable = true)\n",
      " |    |    |    |    |-- Suffix: string (nullable = true)\n",
      " |    |    |    |    |-- _ValidYN: string (nullable = true)\n",
      " |    |    |-- _CompleteYN: string (nullable = true)\n",
      " |    |-- DataBankList: struct (nullable = true)\n",
      " |    |    |-- DataBank: struct (nullable = true)\n",
      " |    |    |    |-- AccessionNumberList: struct (nullable = true)\n",
      " |    |    |    |    |-- AccessionNumber: array (nullable = true)\n",
      " |    |    |    |    |    |-- element: string (containsNull = true)\n",
      " |    |    |    |-- DataBankName: string (nullable = true)\n",
      " |    |    |-- _CompleteYN: string (nullable = true)\n",
      " |    |-- GrantList: struct (nullable = true)\n",
      " |    |    |-- Grant: array (nullable = true)\n",
      " |    |    |    |-- element: struct (containsNull = true)\n",
      " |    |    |    |    |-- Acronym: string (nullable = true)\n",
      " |    |    |    |    |-- Agency: string (nullable = true)\n",
      " |    |    |    |    |-- Country: string (nullable = true)\n",
      " |    |    |    |    |-- GrantID: string (nullable = true)\n",
      " |    |    |-- _CompleteYN: string (nullable = true)\n",
      " |    |-- Journal: struct (nullable = true)\n",
      " |    |    |-- ISOAbbreviation: string (nullable = true)\n",
      " |    |    |-- ISSN: struct (nullable = true)\n",
      " |    |    |    |-- _IssnType: string (nullable = true)\n",
      " |    |    |    |-- _VALUE: string (nullable = true)\n",
      " |    |    |-- JournalIssue: struct (nullable = true)\n",
      " |    |    |    |-- Issue: string (nullable = true)\n",
      " |    |    |    |-- PubDate: struct (nullable = true)\n",
      " |    |    |    |    |-- Day: long (nullable = true)\n",
      " |    |    |    |    |-- MedlineDate: string (nullable = true)\n",
      " |    |    |    |    |-- Month: string (nullable = true)\n",
      " |    |    |    |    |-- Season: string (nullable = true)\n",
      " |    |    |    |    |-- Year: long (nullable = true)\n",
      " |    |    |    |-- Volume: string (nullable = true)\n",
      " |    |    |    |-- _CitedMedium: string (nullable = true)\n",
      " |    |    |-- Title: string (nullable = true)\n",
      " |    |-- Language: array (nullable = true)\n",
      " |    |    |-- element: string (containsNull = true)\n",
      " |    |-- Pagination: struct (nullable = true)\n",
      " |    |    |-- MedlinePgn: string (nullable = true)\n",
      " |    |-- PublicationTypeList: struct (nullable = true)\n",
      " |    |    |-- PublicationType: array (nullable = true)\n",
      " |    |    |    |-- element: struct (containsNull = true)\n",
      " |    |    |    |    |-- _UI: string (nullable = true)\n",
      " |    |    |    |    |-- _VALUE: string (nullable = true)\n",
      " |    |-- VernacularTitle: string (nullable = true)\n",
      " |    |-- _PubModel: string (nullable = true)\n",
      " |-- ChemicalList: struct (nullable = true)\n",
      " |    |-- Chemical: array (nullable = true)\n",
      " |    |    |-- element: struct (containsNull = true)\n",
      " |    |    |    |-- NameOfSubstance: struct (nullable = true)\n",
      " |    |    |    |    |-- _UI: string (nullable = true)\n",
      " |    |    |    |    |-- _VALUE: string (nullable = true)\n",
      " |    |    |    |-- RegistryNumber: string (nullable = true)\n",
      " |-- CitationSubset: array (nullable = true)\n",
      " |    |-- element: string (containsNull = true)\n",
      " |-- CommentsCorrectionsList: struct (nullable = true)\n",
      " |    |-- CommentsCorrections: array (nullable = true)\n",
      " |    |    |-- element: struct (containsNull = true)\n",
      " |    |    |    |-- PMID: struct (nullable = true)\n",
      " |    |    |    |    |-- _VALUE: long (nullable = true)\n",
      " |    |    |    |    |-- _Version: long (nullable = true)\n",
      " |    |    |    |-- RefSource: string (nullable = true)\n",
      " |    |    |    |-- _RefType: string (nullable = true)\n",
      " |-- DateCompleted: struct (nullable = true)\n",
      " |    |-- Day: long (nullable = true)\n",
      " |    |-- Month: long (nullable = true)\n",
      " |    |-- Year: long (nullable = true)\n",
      " |-- DateCreated: struct (nullable = true)\n",
      " |    |-- Day: long (nullable = true)\n",
      " |    |-- Month: long (nullable = true)\n",
      " |    |-- Year: long (nullable = true)\n",
      " |-- DateRevised: struct (nullable = true)\n",
      " |    |-- Day: long (nullable = true)\n",
      " |    |-- Month: long (nullable = true)\n",
      " |    |-- Year: long (nullable = true)\n",
      " |-- GeneralNote: array (nullable = true)\n",
      " |    |-- element: struct (containsNull = true)\n",
      " |    |    |-- _Owner: string (nullable = true)\n",
      " |    |    |-- _VALUE: string (nullable = true)\n",
      " |-- KeywordList: array (nullable = true)\n",
      " |    |-- element: struct (containsNull = true)\n",
      " |    |    |-- Keyword: array (nullable = true)\n",
      " |    |    |    |-- element: struct (containsNull = true)\n",
      " |    |    |    |    |-- _MajorTopicYN: string (nullable = true)\n",
      " |    |    |    |    |-- _VALUE: string (nullable = true)\n",
      " |    |    |-- _Owner: string (nullable = true)\n",
      " |-- MedlineJournalInfo: struct (nullable = true)\n",
      " |    |-- Country: string (nullable = true)\n",
      " |    |-- ISSNLinking: string (nullable = true)\n",
      " |    |-- MedlineTA: string (nullable = true)\n",
      " |    |-- NlmUniqueID: string (nullable = true)\n",
      " |-- MeshHeadingList: struct (nullable = true)\n",
      " |    |-- MeshHeading: array (nullable = true)\n",
      " |    |    |-- element: struct (containsNull = true)\n",
      " |    |    |    |-- DescriptorName: struct (nullable = true)\n",
      " |    |    |    |    |-- _MajorTopicYN: string (nullable = true)\n",
      " |    |    |    |    |-- _Type: string (nullable = true)\n",
      " |    |    |    |    |-- _UI: string (nullable = true)\n",
      " |    |    |    |    |-- _VALUE: string (nullable = true)\n",
      " |    |    |    |-- QualifierName: array (nullable = true)\n",
      " |    |    |    |    |-- element: struct (containsNull = true)\n",
      " |    |    |    |    |    |-- _MajorTopicYN: string (nullable = true)\n",
      " |    |    |    |    |    |-- _UI: string (nullable = true)\n",
      " |    |    |    |    |    |-- _VALUE: string (nullable = true)\n",
      " |-- NumberOfReferences: long (nullable = true)\n",
      " |-- OtherAbstract: struct (nullable = true)\n",
      " |    |-- AbstractText: string (nullable = true)\n",
      " |    |-- CopyrightInformation: string (nullable = true)\n",
      " |    |-- _Language: string (nullable = true)\n",
      " |    |-- _Type: string (nullable = true)\n",
      " |-- OtherID: array (nullable = true)\n",
      " |    |-- element: struct (containsNull = true)\n",
      " |    |    |-- _Source: string (nullable = true)\n",
      " |    |    |-- _VALUE: string (nullable = true)\n",
      " |-- PMID: struct (nullable = true)\n",
      " |    |-- _VALUE: long (nullable = true)\n",
      " |    |-- _Version: long (nullable = true)\n",
      " |-- PersonalNameSubjectList: struct (nullable = true)\n",
      " |    |-- PersonalNameSubject: array (nullable = true)\n",
      " |    |    |-- element: struct (containsNull = true)\n",
      " |    |    |    |-- ForeName: string (nullable = true)\n",
      " |    |    |    |-- Initials: string (nullable = true)\n",
      " |    |    |    |-- LastName: string (nullable = true)\n",
      " |    |    |    |-- Suffix: string (nullable = true)\n",
      " |-- SpaceFlightMission: array (nullable = true)\n",
      " |    |-- element: string (containsNull = true)\n",
      " |-- SupplMeshList: struct (nullable = true)\n",
      " |    |-- SupplMeshName: array (nullable = true)\n",
      " |    |    |-- element: struct (containsNull = true)\n",
      " |    |    |    |-- _Type: string (nullable = true)\n",
      " |    |    |    |-- _UI: string (nullable = true)\n",
      " |    |    |    |-- _VALUE: string (nullable = true)\n",
      " |-- _Owner: string (nullable = true)\n",
      " |-- _Status: string (nullable = true)\n",
      "\n"
     ]
    }
   ],
   "source": [
    "b.printSchema()"
   ]
  },
  {
   "cell_type": "code",
   "execution_count": 6,
   "metadata": {
    "collapsed": true
   },
   "outputs": [],
   "source": [
    "c=b.where(F.col('KeywordList.Keyword').isNotNull()).cache()"
   ]
  },
  {
   "cell_type": "code",
   "execution_count": 19,
   "metadata": {
    "collapsed": false
   },
   "outputs": [
    {
     "ename": "AnalysisException",
     "evalue": "u\"cannot resolve 'KeywordList.Keyword[_VALUE]' due to data type mismatch: argument 2 requires integral type, however, '_VALUE' is of string type.;\"",
     "output_type": "error",
     "traceback": [
      "\u001b[0;31m---------------------------------------------------------------------------\u001b[0m",
      "\u001b[0;31mAnalysisException\u001b[0m                         Traceback (most recent call last)",
      "\u001b[0;32m<ipython-input-19-a226cbad79a2>\u001b[0m in \u001b[0;36m<module>\u001b[0;34m()\u001b[0m\n\u001b[0;32m----> 1\u001b[0;31m \u001b[0mc\u001b[0m\u001b[0;34m.\u001b[0m\u001b[0mselect\u001b[0m\u001b[0;34m(\u001b[0m\u001b[0;34m'KeywordList.Keyword._VALUE'\u001b[0m\u001b[0;34m)\u001b[0m\u001b[0;34m.\u001b[0m\u001b[0mpeek\u001b[0m\u001b[0;34m(\u001b[0m\u001b[0;34m)\u001b[0m\u001b[0;34m\u001b[0m\u001b[0m\n\u001b[0m",
      "\u001b[0;32m/home/bzhang/spark-bin/python/pyspark/sql/dataframe.py\u001b[0m in \u001b[0;36mselect\u001b[0;34m(self, *cols)\u001b[0m\n\u001b[1;32m    860\u001b[0m         \u001b[0;34m[\u001b[0m\u001b[0mRow\u001b[0m\u001b[0;34m(\u001b[0m\u001b[0mname\u001b[0m\u001b[0;34m=\u001b[0m\u001b[0;34mu'Alice'\u001b[0m\u001b[0;34m,\u001b[0m \u001b[0mage\u001b[0m\u001b[0;34m=\u001b[0m\u001b[0;36m12\u001b[0m\u001b[0;34m)\u001b[0m\u001b[0;34m,\u001b[0m \u001b[0mRow\u001b[0m\u001b[0;34m(\u001b[0m\u001b[0mname\u001b[0m\u001b[0;34m=\u001b[0m\u001b[0;34mu'Bob'\u001b[0m\u001b[0;34m,\u001b[0m \u001b[0mage\u001b[0m\u001b[0;34m=\u001b[0m\u001b[0;36m15\u001b[0m\u001b[0;34m)\u001b[0m\u001b[0;34m]\u001b[0m\u001b[0;34m\u001b[0m\u001b[0m\n\u001b[1;32m    861\u001b[0m         \"\"\"\n\u001b[0;32m--> 862\u001b[0;31m         \u001b[0mjdf\u001b[0m \u001b[0;34m=\u001b[0m \u001b[0mself\u001b[0m\u001b[0;34m.\u001b[0m\u001b[0m_jdf\u001b[0m\u001b[0;34m.\u001b[0m\u001b[0mselect\u001b[0m\u001b[0;34m(\u001b[0m\u001b[0mself\u001b[0m\u001b[0;34m.\u001b[0m\u001b[0m_jcols\u001b[0m\u001b[0;34m(\u001b[0m\u001b[0;34m*\u001b[0m\u001b[0mcols\u001b[0m\u001b[0;34m)\u001b[0m\u001b[0;34m)\u001b[0m\u001b[0;34m\u001b[0m\u001b[0m\n\u001b[0m\u001b[1;32m    863\u001b[0m         \u001b[0;32mreturn\u001b[0m \u001b[0mDataFrame\u001b[0m\u001b[0;34m(\u001b[0m\u001b[0mjdf\u001b[0m\u001b[0;34m,\u001b[0m \u001b[0mself\u001b[0m\u001b[0;34m.\u001b[0m\u001b[0msql_ctx\u001b[0m\u001b[0;34m)\u001b[0m\u001b[0;34m\u001b[0m\u001b[0m\n\u001b[1;32m    864\u001b[0m \u001b[0;34m\u001b[0m\u001b[0m\n",
      "\u001b[0;32m/home/bzhang/spark-bin/python/lib/py4j-0.9-src.zip/py4j/java_gateway.py\u001b[0m in \u001b[0;36m__call__\u001b[0;34m(self, *args)\u001b[0m\n\u001b[1;32m    811\u001b[0m         \u001b[0manswer\u001b[0m \u001b[0;34m=\u001b[0m \u001b[0mself\u001b[0m\u001b[0;34m.\u001b[0m\u001b[0mgateway_client\u001b[0m\u001b[0;34m.\u001b[0m\u001b[0msend_command\u001b[0m\u001b[0;34m(\u001b[0m\u001b[0mcommand\u001b[0m\u001b[0;34m)\u001b[0m\u001b[0;34m\u001b[0m\u001b[0m\n\u001b[1;32m    812\u001b[0m         return_value = get_return_value(\n\u001b[0;32m--> 813\u001b[0;31m             answer, self.gateway_client, self.target_id, self.name)\n\u001b[0m\u001b[1;32m    814\u001b[0m \u001b[0;34m\u001b[0m\u001b[0m\n\u001b[1;32m    815\u001b[0m         \u001b[0;32mfor\u001b[0m \u001b[0mtemp_arg\u001b[0m \u001b[0;32min\u001b[0m \u001b[0mtemp_args\u001b[0m\u001b[0;34m:\u001b[0m\u001b[0;34m\u001b[0m\u001b[0m\n",
      "\u001b[0;32m/home/bzhang/spark-bin/python/pyspark/sql/utils.py\u001b[0m in \u001b[0;36mdeco\u001b[0;34m(*a, **kw)\u001b[0m\n\u001b[1;32m     49\u001b[0m                                              e.java_exception.getStackTrace()))\n\u001b[1;32m     50\u001b[0m             \u001b[0;32mif\u001b[0m \u001b[0ms\u001b[0m\u001b[0;34m.\u001b[0m\u001b[0mstartswith\u001b[0m\u001b[0;34m(\u001b[0m\u001b[0;34m'org.apache.spark.sql.AnalysisException: '\u001b[0m\u001b[0;34m)\u001b[0m\u001b[0;34m:\u001b[0m\u001b[0;34m\u001b[0m\u001b[0m\n\u001b[0;32m---> 51\u001b[0;31m                 \u001b[0;32mraise\u001b[0m \u001b[0mAnalysisException\u001b[0m\u001b[0;34m(\u001b[0m\u001b[0ms\u001b[0m\u001b[0;34m.\u001b[0m\u001b[0msplit\u001b[0m\u001b[0;34m(\u001b[0m\u001b[0;34m': '\u001b[0m\u001b[0;34m,\u001b[0m \u001b[0;36m1\u001b[0m\u001b[0;34m)\u001b[0m\u001b[0;34m[\u001b[0m\u001b[0;36m1\u001b[0m\u001b[0;34m]\u001b[0m\u001b[0;34m,\u001b[0m \u001b[0mstackTrace\u001b[0m\u001b[0;34m)\u001b[0m\u001b[0;34m\u001b[0m\u001b[0m\n\u001b[0m\u001b[1;32m     52\u001b[0m             \u001b[0;32mif\u001b[0m \u001b[0ms\u001b[0m\u001b[0;34m.\u001b[0m\u001b[0mstartswith\u001b[0m\u001b[0;34m(\u001b[0m\u001b[0;34m'java.lang.IllegalArgumentException: '\u001b[0m\u001b[0;34m)\u001b[0m\u001b[0;34m:\u001b[0m\u001b[0;34m\u001b[0m\u001b[0m\n\u001b[1;32m     53\u001b[0m                 \u001b[0;32mraise\u001b[0m \u001b[0mIllegalArgumentException\u001b[0m\u001b[0;34m(\u001b[0m\u001b[0ms\u001b[0m\u001b[0;34m.\u001b[0m\u001b[0msplit\u001b[0m\u001b[0;34m(\u001b[0m\u001b[0;34m': '\u001b[0m\u001b[0;34m,\u001b[0m \u001b[0;36m1\u001b[0m\u001b[0;34m)\u001b[0m\u001b[0;34m[\u001b[0m\u001b[0;36m1\u001b[0m\u001b[0;34m]\u001b[0m\u001b[0;34m,\u001b[0m \u001b[0mstackTrace\u001b[0m\u001b[0;34m)\u001b[0m\u001b[0;34m\u001b[0m\u001b[0m\n",
      "\u001b[0;31mAnalysisException\u001b[0m: u\"cannot resolve 'KeywordList.Keyword[_VALUE]' due to data type mismatch: argument 2 requires integral type, however, '_VALUE' is of string type.;\""
     ]
    }
   ],
   "source": [
    "c.select('KeywordList.Keyword._VALUE').peek()"
   ]
  },
  {
   "cell_type": "code",
   "execution_count": 16,
   "metadata": {
    "collapsed": false
   },
   "outputs": [],
   "source": [
    "def toS(aa):\n",
    "    return \"|\".join([e['_VALUE'] for s in aa for e in s]) if isinstance(aa, (list, list)) else None"
   ]
  },
  {
   "cell_type": "code",
   "execution_count": 17,
   "metadata": {
    "collapsed": false
   },
   "outputs": [
    {
     "name": "stdout",
     "output_type": "stream",
     "text": [
      "aS:String = Legal Approach|Mental Health Act 1959 (Great Britain)|Mental Health Therapies\n"
     ]
    }
   ],
   "source": [
    "c.select(F.udf(toS)('KeywordList.Keyword').alias('aS')).peek()"
   ]
  },
  {
   "cell_type": "code",
   "execution_count": 43,
   "metadata": {
    "collapsed": false
   },
   "outputs": [],
   "source": [
    "from pyspark.sql.utils import AnalysisException\n",
    "def _getArrCat(_df, path):\n",
    "    \"\"\"Return the column in `path`:\n",
    "    - if it is a simple array, return as string with pip separated\n",
    "    - if it is a array of array, return as string with pip separated flatten array\n",
    "    - else return itself\n",
    "    \"\"\"\n",
    "    try:\n",
    "        _df.select(path)\n",
    "    except AnalysisException:\n",
    "        pre, base = path.rsplit('.', 1)\n",
    "        try:\n",
    "            _df.select(pre)\n",
    "        except AnalysisException:\n",
    "            return F.lit(None).cast('string')\n",
    "        else:\n",
    "            _udf = lambda c: [e[base] for s in c for e in s] if isinstance(c, (list, list)) else None\n",
    "            return F.udf(_udf)(_df[pre]).cast('string')\n",
    "    else:\n",
    "        _udf = lambda c: \"|\".join([str(e) for e in c]) if isinstance(c, list) else c\n",
    "        return F.udf(_udf)(_df[path]).cast('string')"
   ]
  },
  {
   "cell_type": "code",
   "execution_count": 38,
   "metadata": {
    "collapsed": false
   },
   "outputs": [
    {
     "data": {
      "text/plain": [
       "True"
      ]
     },
     "execution_count": 38,
     "metadata": {},
     "output_type": "execute_result"
    }
   ],
   "source": [
    "has_column(c, 'KeywordList.Keyword._VALUE')"
   ]
  },
  {
   "cell_type": "code",
   "execution_count": 44,
   "metadata": {
    "collapsed": false
   },
   "outputs": [
    {
     "name": "stdout",
     "output_type": "stream",
     "text": [
      "cast(PythonUDF#<lambda>(KeywordList.Keyword AS Keyword#718) as string):String = [Legal Approach, Mental Health Act 1959 (Great Britain), Mental Health Therapies]\n"
     ]
    }
   ],
   "source": [
    "c.select(_getArrCat(c, 'KeywordList.Keyword._VALUE')).peek()"
   ]
  },
  {
   "cell_type": "code",
   "execution_count": 37,
   "metadata": {
    "collapsed": true
   },
   "outputs": [],
   "source": [
    "def has_column(df, col):\n",
    "    try:\n",
    "        df[col]\n",
    "        return True\n",
    "    except AnalysisException:\n",
    "        return False"
   ]
  }
 ],
 "metadata": {
  "kernelspec": {
   "display_name": "Python 2",
   "language": "python",
   "name": "python2"
  },
  "language_info": {
   "codemirror_mode": {
    "name": "ipython",
    "version": 2
   },
   "file_extension": ".py",
   "mimetype": "text/x-python",
   "name": "python",
   "nbconvert_exporter": "python",
   "pygments_lexer": "ipython2",
   "version": "2.7.6"
  }
 },
 "nbformat": 4,
 "nbformat_minor": 1
}
