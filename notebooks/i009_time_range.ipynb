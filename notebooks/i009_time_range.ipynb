{
 "cells": [
  {
   "cell_type": "code",
   "execution_count": 2,
   "metadata": {},
   "outputs": [],
   "source": [
    "import pubmed.core as C"
   ]
  },
  {
   "cell_type": "code",
   "execution_count": 3,
   "metadata": {},
   "outputs": [],
   "source": [
    "def filename(id):\n",
    "    return \"/Users/bozhang/data/pubmed/pubmed18n{:04d}.xml.gz\".format(id)"
   ]
  },
  {
   "cell_type": "code",
   "execution_count": 3,
   "metadata": {},
   "outputs": [],
   "source": [
    "a=C.pubMedCitation(filename(1))"
   ]
  },
  {
   "cell_type": "code",
   "execution_count": 4,
   "metadata": {},
   "outputs": [
    {
     "name": "stdout",
     "output_type": "stream",
     "text": [
      "+---------+---------+\n",
      "|min(Year)|max(Year)|\n",
      "+---------+---------+\n",
      "|     1975|     1979|\n",
      "+---------+---------+\n",
      "\n"
     ]
    }
   ],
   "source": [
    "a.agg(F.min('Year'), F.max('Year')).show()"
   ]
  },
  {
   "cell_type": "code",
   "execution_count": 4,
   "metadata": {},
   "outputs": [],
   "source": [
    "for i in xrange(100, 200):\n",
    "    a = C.pubMedCitation(filename(i))\n",
    "    a.smvExportCsv('pubmed18n{:04d}.csv'.format(i))"
   ]
  },
  {
   "cell_type": "code",
   "execution_count": 7,
   "metadata": {},
   "outputs": [],
   "source": [
    "a = C.pubMedCitation(filename(1))\n",
    "jh = a._sc._jvm.SmvDFHelper(a._jdf)"
   ]
  },
  {
   "cell_type": "code",
   "execution_count": 13,
   "metadata": {},
   "outputs": [],
   "source": [
    "from smv.csv_attributes import CsvAttributes\n",
    "jh.saveAsCsvWithSchema('t.csv', CsvAttributes(), None, \"\")"
   ]
  }
 ],
 "metadata": {
  "kernelspec": {
   "display_name": "Python 2",
   "language": "python",
   "name": "python2"
  },
  "language_info": {
   "codemirror_mode": {
    "name": "ipython",
    "version": 2
   },
   "file_extension": ".py",
   "mimetype": "text/x-python",
   "name": "python",
   "nbconvert_exporter": "python",
   "pygments_lexer": "ipython2",
   "version": "2.7.13"
  }
 },
 "nbformat": 4,
 "nbformat_minor": 2
}
