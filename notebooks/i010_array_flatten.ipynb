{
 "cells": [
  {
   "cell_type": "code",
   "execution_count": 1,
   "metadata": {
    "collapsed": true
   },
   "outputs": [],
   "source": [
    "import lib.core as C"
   ]
  },
  {
   "cell_type": "code",
   "execution_count": 2,
   "metadata": {
    "collapsed": true
   },
   "outputs": [],
   "source": [
    "import smv.functions as f"
   ]
  },
  {
   "cell_type": "code",
   "execution_count": 2,
   "metadata": {
    "collapsed": true
   },
   "outputs": [],
   "source": [
    "x=C.readPubMedXml('/data/pdda_raw/17_pubmed/2018baseline/pubmed18n0620.xml.gz', 'lib/pubmed_mini_schema.json', sqlContext)"
   ]
  },
  {
   "cell_type": "code",
   "execution_count": 9,
   "metadata": {
    "collapsed": true
   },
   "outputs": [],
   "source": [
    "def m1(df):\n",
    "    u=F.udf(\n",
    "            lambda aa: '|'.join([e['_VALUE'] for s in aa for e in s if e is not None]) if isinstance(aa, (list, list)) else None\n",
    "        )\n",
    "    return df.select(u(F.col('KeywordList.Keyword')).alias('k'), F.col('PMID._VALUE').alias('ID'), 'Article.ArticleTitle')"
   ]
  },
  {
   "cell_type": "code",
   "execution_count": 10,
   "metadata": {
    "collapsed": true
   },
   "outputs": [],
   "source": [
    "o1=m1(x).cache()"
   ]
  },
  {
   "cell_type": "code",
   "execution_count": 11,
   "metadata": {
    "collapsed": false
   },
   "outputs": [
    {
     "name": "stdout",
     "output_type": "stream",
     "text": [
      "09:58:36\n",
      "09:59:44\n"
     ]
    },
    {
     "data": {
      "text/plain": [
       "30000"
      ]
     },
     "execution_count": 11,
     "metadata": {},
     "output_type": "execute_result"
    }
   ],
   "source": [
    "now();c1=o1.count();now();c1"
   ]
  },
  {
   "cell_type": "code",
   "execution_count": 8,
   "metadata": {
    "collapsed": false
   },
   "outputs": [
    {
     "name": "stdout",
     "output_type": "stream",
     "text": [
      "k:String = Pregnancy outcome|case-control.|systemic lupus erythematosus (SLE)\n"
     ]
    }
   ],
   "source": [
    "o1.where(o1.k.isNotNull()).peek()"
   ]
  },
  {
   "cell_type": "code",
   "execution_count": 44,
   "metadata": {
    "collapsed": true
   },
   "outputs": [],
   "source": [
    "def m2(df):\n",
    "    df1 = df.select(F.col('PMID._VALUE').alias('ID'), F.explode('KeywordList.Keyword').alias('k1'))\n",
    "    df2 = df1.select('ID', F.explode('k1._VALUE').alias('k2'))\n",
    "    df3 = df2.groupBy('ID').agg(F.collect_list('k2').alias('keys')).select('ID', f.smvArrayCat('|', F.col('keys')).alias('kstr'))\n",
    "    df4 = df.select(F.col('PMID._VALUE').alias('ID'), 'Article.ArticleTitle')\n",
    "    res = df4.smvJoinByKey(df3, ['ID'], 'leftouter')\n",
    "    return res"
   ]
  },
  {
   "cell_type": "code",
   "execution_count": 29,
   "metadata": {
    "collapsed": false
   },
   "outputs": [],
   "source": [
    "df1 = x.select(F.col('PMID._VALUE').alias('ID'), F.explode('KeywordList.Keyword').alias('k1'))\n",
    "df2 = df1.select('ID', F.explode('k1._VALUE').alias('k2'))"
   ]
  },
  {
   "cell_type": "code",
   "execution_count": 36,
   "metadata": {
    "collapsed": false
   },
   "outputs": [],
   "source": [
    "df3 = df2.groupBy('ID').agg(F.collect_list('k2').alias('keys')).select('ID', f.smvArrayCat('|', F.col('keys')).alias('kstr'))"
   ]
  },
  {
   "cell_type": "code",
   "execution_count": 37,
   "metadata": {
    "collapsed": false
   },
   "outputs": [
    {
     "name": "stdout",
     "output_type": "stream",
     "text": [
      "ID:Long     = 19165351\n",
      "kstr:String = TC RNA amplification|aRNA|brain extract|column filtration|in vitro transcription|microarray\n"
     ]
    }
   ],
   "source": [
    "df3.peek()"
   ]
  },
  {
   "cell_type": "code",
   "execution_count": 45,
   "metadata": {
    "collapsed": false
   },
   "outputs": [
    {
     "name": "stdout",
     "output_type": "stream",
     "text": [
      "10:21:38\n",
      "10:22:37\n"
     ]
    },
    {
     "data": {
      "text/plain": [
       "30000"
      ]
     },
     "execution_count": 45,
     "metadata": {},
     "output_type": "execute_result"
    }
   ],
   "source": [
    "now();c2=m2(x).count();now();c2"
   ]
  },
  {
   "cell_type": "code",
   "execution_count": 41,
   "metadata": {
    "collapsed": false
   },
   "outputs": [
    {
     "name": "stdout",
     "output_type": "stream",
     "text": [
      "ID                   Non-Null Count         30000\n",
      "ID                   Null Count             0\n",
      "ID                   Min Length             8\n",
      "ID                   Max Length             8\n",
      "ID                   Approx Distinct Count  30043\n"
     ]
    }
   ],
   "source": [
    "x.select(F.col('PMID._VALUE').cast('string').alias('ID')).smvEdd('ID')"
   ]
  },
  {
   "cell_type": "markdown",
   "metadata": {},
   "source": [
    "# Check for larger files"
   ]
  },
  {
   "cell_type": "code",
   "execution_count": 111,
   "metadata": {
    "collapsed": true
   },
   "outputs": [],
   "source": [
    "x=C.readPubMedXml('/data/pdda_raw/17_pubmed/2018baseline/pubmed18n062*.xml.gz', 'lib/pubmed_mini_schema.json', sqlContext)"
   ]
  },
  {
   "cell_type": "code",
   "execution_count": 47,
   "metadata": {
    "collapsed": false
   },
   "outputs": [
    {
     "name": "stdout",
     "output_type": "stream",
     "text": [
      "10:23:53\n",
      "10:28:13\n"
     ]
    },
    {
     "data": {
      "text/plain": [
       "300000"
      ]
     },
     "execution_count": 47,
     "metadata": {},
     "output_type": "execute_result"
    }
   ],
   "source": [
    "now();c1=m1(x).count();now();c1"
   ]
  },
  {
   "cell_type": "code",
   "execution_count": 48,
   "metadata": {
    "collapsed": false
   },
   "outputs": [
    {
     "name": "stdout",
     "output_type": "stream",
     "text": [
      "10:28:46\n",
      "10:33:54\n"
     ]
    },
    {
     "data": {
      "text/plain": [
       "300000"
      ]
     },
     "execution_count": 48,
     "metadata": {},
     "output_type": "execute_result"
    }
   ],
   "source": [
    "now();c2=m2(x).count();now();c2"
   ]
  },
  {
   "cell_type": "code",
   "execution_count": 100,
   "metadata": {
    "collapsed": false
   },
   "outputs": [],
   "source": [
    "from pyspark.sql.types import *\n",
    "def m3(df):\n",
    "    dt=df.select('KeywordList.Keyword').schema.fields[0].dataType\n",
    "    df0 = df.select(F.col('PMID._VALUE').alias('ID'), 'Article.ArticleTitle', F.coalesce(\n",
    "        F.col('KeywordList.Keyword'), F.array(F.array(F.lit(None).cast(dt.elementType.elementType)).cast(dt.elementType)).cast(dt)).alias('k0'))\n",
    "    df1 = df0.select('ID', 'ArticleTitle', F.explode('k0').alias('k1'))\n",
    "    df2 = df1.select('ID', 'ArticleTitle', F.explode('k1._VALUE').alias('k2'))\n",
    "    df3 = df2.groupBy('ID').agg(F.first('ArticleTitle').alias('ArticleTitle'), F.collect_list('k2').alias('keys')).select('ID', f.smvArrayCat('|', F.col('keys')).alias('kstr'))\n",
    "    return df3"
   ]
  },
  {
   "cell_type": "code",
   "execution_count": 106,
   "metadata": {
    "collapsed": true
   },
   "outputs": [],
   "source": [
    "def explode_keep_null(df, c):\n",
    "    dt = df.select(c).schema.fields[0].dataType\n",
    "    return df.withColumn(c, F.explode(F.coalesce(\n",
    "            F.col(c), F.array(F.lit(None).cast(dt.elementType)).cast(dt))))\n",
    "def m32(df):\n",
    "    df0 = df.select(F.col('PMID._VALUE').alias('ID'), 'Article.ArticleTitle', 'KeywordList.Keyword')\n",
    "    df1 = explode_keep_null(df0, 'Keyword')\n",
    "    df2 = explode_keep_null(df1, 'Keyword').select('ID', 'ArticleTitle', F.col('Keyword._VALUE').alias('k2'))\n",
    "    df3 = df2.groupBy('ID').agg(F.first('ArticleTitle').alias('ArticleTitle'), F.collect_list('k2').alias('keys')).select('ID', f.smvArrayCat('|', F.col('keys')).alias('kstr'))\n",
    "    return df3"
   ]
  },
  {
   "cell_type": "code",
   "execution_count": 115,
   "metadata": {
    "collapsed": true
   },
   "outputs": [],
   "source": [
    "def explode_keep_null(df, c):\n",
    "    dt = df.select(c).schema.fields[0].dataType\n",
    "    return df.withColumn(c, F.explode(F.coalesce(\n",
    "            F.col(c), F.array(F.lit(None).cast(dt.elementType)).cast(dt))))\n",
    "\n",
    "def flatten_array_of_array(df, keys, c, elem):\n",
    "    df1 = explode_keep_null(df, c)\n",
    "    df2 = explode_keep_null(df1, c).withColumn(c, F.col(c)[elem])\n",
    "    kept = [i for i in df.columns if i not in (keys + [c])]\n",
    "    res = df2.groupBy(*keys).agg(*([F.first(i).alias(i) for i in kept] + [F.collect_list(c).alias(c)]))\n",
    "    return res\n",
    "\n",
    "def m33(df):\n",
    "    df0 = df.select(F.col('PMID._VALUE').alias('ID'), 'Article.ArticleTitle', 'KeywordList.Keyword')\n",
    "    df1 = flatten_array_of_array(df0, ['ID'], 'Keyword', '_VALUE')\n",
    "    res = df1.select('ID', 'ArticleTitle', f.smvArrayCat('|', F.col('Keyword')).alias('k'))\n",
    "    return res"
   ]
  },
  {
   "cell_type": "code",
   "execution_count": 93,
   "metadata": {
    "collapsed": false
   },
   "outputs": [
    {
     "data": {
      "text/plain": [
       "ArrayType(ArrayType(StructType(List(StructField(_MajorTopicYN,StringType,true),StructField(_VALUE,StringType,true))),true),true)"
      ]
     },
     "execution_count": 93,
     "metadata": {},
     "output_type": "execute_result"
    }
   ],
   "source": [
    "x.select('KeywordList.Keyword').schema.fields[0].dataType"
   ]
  },
  {
   "cell_type": "code",
   "execution_count": 101,
   "metadata": {
    "collapsed": false,
    "scrolled": false
   },
   "outputs": [
    {
     "name": "stdout",
     "output_type": "stream",
     "text": [
      "12:23:28\n",
      "12:26:29\n"
     ]
    },
    {
     "data": {
      "text/plain": [
       "300000"
      ]
     },
     "execution_count": 101,
     "metadata": {},
     "output_type": "execute_result"
    }
   ],
   "source": [
    "now();c3=m3(x).count();now();c3"
   ]
  },
  {
   "cell_type": "code",
   "execution_count": 107,
   "metadata": {
    "collapsed": false
   },
   "outputs": [
    {
     "name": "stdout",
     "output_type": "stream",
     "text": [
      "12:54:05\n",
      "12:57:08\n"
     ]
    },
    {
     "data": {
      "text/plain": [
       "300000"
      ]
     },
     "execution_count": 107,
     "metadata": {},
     "output_type": "execute_result"
    }
   ],
   "source": [
    "now();c3=m32(x).cache().count();now();c3"
   ]
  },
  {
   "cell_type": "code",
   "execution_count": 116,
   "metadata": {
    "collapsed": false
   },
   "outputs": [
    {
     "name": "stdout",
     "output_type": "stream",
     "text": [
      "13:12:46\n",
      "13:16:15\n"
     ]
    },
    {
     "data": {
      "text/plain": [
       "300000"
      ]
     },
     "execution_count": 116,
     "metadata": {},
     "output_type": "execute_result"
    }
   ],
   "source": [
    "now();c3=m33(x).cache().count();now();c3"
   ]
  },
  {
   "cell_type": "markdown",
   "metadata": {},
   "source": [
    "# Even larger"
   ]
  },
  {
   "cell_type": "code",
   "execution_count": 108,
   "metadata": {
    "collapsed": true
   },
   "outputs": [],
   "source": [
    "x=C.readPubMedXml('/data/pdda_raw/17_pubmed/2018baseline/pubmed18n06[2345]*.xml.gz', 'lib/pubmed_mini_schema.json', sqlContext)"
   ]
  },
  {
   "cell_type": "code",
   "execution_count": 109,
   "metadata": {
    "collapsed": false
   },
   "outputs": [
    {
     "name": "stdout",
     "output_type": "stream",
     "text": [
      "12:57:27\n",
      "13:08:07\n"
     ]
    },
    {
     "data": {
      "text/plain": [
       "1200000"
      ]
     },
     "execution_count": 109,
     "metadata": {},
     "output_type": "execute_result"
    }
   ],
   "source": [
    "now();c3=m32(x).count();now();c3"
   ]
  },
  {
   "cell_type": "code",
   "execution_count": 53,
   "metadata": {
    "collapsed": false
   },
   "outputs": [
    {
     "name": "stdout",
     "output_type": "stream",
     "text": [
      "10:50:46\n",
      "11:05:28\n"
     ]
    },
    {
     "data": {
      "text/plain": [
       "1200000"
      ]
     },
     "execution_count": 53,
     "metadata": {},
     "output_type": "execute_result"
    }
   ],
   "source": [
    "now();c1=m1(x).count();now();c1"
   ]
  },
  {
   "cell_type": "code",
   "execution_count": 54,
   "metadata": {
    "collapsed": false
   },
   "outputs": [
    {
     "name": "stdout",
     "output_type": "stream",
     "text": [
      "ID                   Non-Null Count         1200000\n",
      "ID                   Null Count             0\n",
      "ID                   Min Length             8\n",
      "ID                   Max Length             8\n",
      "ID                   Approx Distinct Count  1188800\n"
     ]
    }
   ],
   "source": [
    "x.select(F.col('PMID._VALUE').cast('string').alias('ID')).smvEdd('ID')"
   ]
  },
  {
   "cell_type": "markdown",
   "metadata": {},
   "source": [
    "# Check for Scala version"
   ]
  },
  {
   "cell_type": "code",
   "execution_count": 3,
   "metadata": {
    "collapsed": false
   },
   "outputs": [],
   "source": [
    "x1=C.readPubMedXml('/data/pdda_raw/17_pubmed/2018baseline/pubmed18n062*.xml.gz', 'lib/pubmed_mini_schema.json', sqlContext)"
   ]
  },
  {
   "cell_type": "code",
   "execution_count": 10,
   "metadata": {
    "collapsed": true
   },
   "outputs": [],
   "source": [
    "def m4(df):\n",
    "    df0 = df.select(F.col('PMID._VALUE').alias('ID'), 'Article.ArticleTitle', 'KeywordList.Keyword')\n",
    "    df1 = df0.withColumn('Keyword', F.col('Keyword').smvArrayFlatten(df0))\n",
    "    res = df1.select('ID', 'ArticleTitle', f.smvArrayCat('|', F.col('Keyword._VALUE')).alias('k'))\n",
    "    return res"
   ]
  },
  {
   "cell_type": "code",
   "execution_count": 11,
   "metadata": {
    "collapsed": false,
    "scrolled": false
   },
   "outputs": [
    {
     "name": "stdout",
     "output_type": "stream",
     "text": [
      "19:38:02\n",
      "19:41:18\n"
     ]
    },
    {
     "data": {
      "text/plain": [
       "300000"
      ]
     },
     "execution_count": 11,
     "metadata": {},
     "output_type": "execute_result"
    }
   ],
   "source": [
    "now();r4=m4(x1).cache();c4=r4.count();now();c4"
   ]
  },
  {
   "cell_type": "code",
   "execution_count": 12,
   "metadata": {
    "collapsed": false
   },
   "outputs": [
    {
     "name": "stdout",
     "output_type": "stream",
     "text": [
      "ID:Long             = 19443873\n",
      "ArticleTitle:String = An assessment of felt needs and expectations of people living with HIV/AIDS seeking treatment at NGOs in Delhi, India.\n",
      "k:String            = communicable diseases|health care services|health services evaluation|medicolegal issues|resources\n"
     ]
    }
   ],
   "source": [
    "r4.where(F.col('k').isNotNull()).peek()"
   ]
  },
  {
   "cell_type": "code",
   "execution_count": 7,
   "metadata": {
    "collapsed": true
   },
   "outputs": [],
   "source": [
    "x2=C.readPubMedXml('/data/pdda_raw/17_pubmed/2018baseline/pubmed18n06[2345]*.xml.gz', 'lib/pubmed_mini_schema.json', sqlContext)"
   ]
  },
  {
   "cell_type": "code",
   "execution_count": 9,
   "metadata": {
    "collapsed": false
   },
   "outputs": [
    {
     "name": "stdout",
     "output_type": "stream",
     "text": [
      "19:09:40\n",
      "19:20:27\n"
     ]
    },
    {
     "data": {
      "text/plain": [
       "1200000"
      ]
     },
     "execution_count": 9,
     "metadata": {},
     "output_type": "execute_result"
    }
   ],
   "source": [
    "now();r5=m4(x2).cache();c5=r5.count();now();c5"
   ]
  }
 ],
 "metadata": {
  "kernelspec": {
   "display_name": "Python 2",
   "language": "python",
   "name": "python2"
  },
  "language_info": {
   "codemirror_mode": {
    "name": "ipython",
    "version": 2
   },
   "file_extension": ".py",
   "mimetype": "text/x-python",
   "name": "python",
   "nbconvert_exporter": "python",
   "pygments_lexer": "ipython2",
   "version": "2.7.6"
  }
 },
 "nbformat": 4,
 "nbformat_minor": 1
}
